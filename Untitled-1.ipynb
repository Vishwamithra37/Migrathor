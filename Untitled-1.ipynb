{
 "cells": [
  {
   "cell_type": "code",
   "execution_count": null,
   "metadata": {},
   "outputs": [],
   "source": [
    "a=\"reo\"\n",
    "b=\"gerpreo\""
   ]
  },
  {
   "cell_type": "code",
   "execution_count": 4,
   "metadata": {},
   "outputs": [],
   "source": [
    "a=[\"apples\"]\n",
    "b=[]\n",
    "for i in b:\n",
    "    print('as')\n",
    "    print(b)"
   ]
  },
  {
   "cell_type": "code",
   "execution_count": 1,
   "metadata": {},
   "outputs": [
    {
     "data": {
      "text/plain": [
       "'a46f0008-23a1-4565-ab19-a33e55e865f0'"
      ]
     },
     "execution_count": 1,
     "metadata": {},
     "output_type": "execute_result"
    }
   ],
   "source": [
    "import net_ut\n",
    "import json\n",
    "# print(net_ut.net_ut.subnet_net_map())\n",
    "# a=net_ut.net_ut.destination_source_subnet_map2()\n",
    "b=net_ut.net_ut.destination_source_router_map2()\n",
    "# a[\"45b0337b-66b0-42f3-8e29-a3186c4643e1\"]\n",
    "b[\"9d6a3a12-17fd-4fd4-81a3-8985db66a222\"]\n",
    "# a='343328b4-d43c-4ab7-9725-2d66abb66de7'\n",
    "# with open('./destination/subnet_'+a+'.json') as r:\n",
    "#                               d_subnet_data = json.load(r)\n",
    "#                               print(d_subnet_data)\n",
    "\n"
   ]
  },
  {
   "cell_type": "code",
   "execution_count": null,
   "metadata": {},
   "outputs": [],
   "source": []
  },
  {
   "cell_type": "markdown",
   "metadata": {},
   "source": []
  }
 ],
 "metadata": {
  "kernelspec": {
   "display_name": "Python 3.10.7 64-bit (microsoft store)",
   "language": "python",
   "name": "python3"
  },
  "language_info": {
   "codemirror_mode": {
    "name": "ipython",
    "version": 3
   },
   "file_extension": ".py",
   "mimetype": "text/x-python",
   "name": "python",
   "nbconvert_exporter": "python",
   "pygments_lexer": "ipython3",
   "version": "3.10.7"
  },
  "orig_nbformat": 4,
  "vscode": {
   "interpreter": {
    "hash": "fdaaf41630fc54123e49628c502bf66cdb28ab3ff40bec0a0b22c2343c28dae0"
   }
  }
 },
 "nbformat": 4,
 "nbformat_minor": 2
}
