{
 "cells": [
  {
   "cell_type": "code",
   "execution_count": null,
   "metadata": {},
   "outputs": [],
   "source": [
    "a=\"reo\"\n",
    "b=\"gerpreo\""
   ]
  },
  {
   "cell_type": "code",
   "execution_count": 4,
   "metadata": {},
   "outputs": [],
   "source": [
    "a=[\"apples\"]\n",
    "b=[]\n",
    "for i in b:\n",
    "    print('as')\n",
    "    print(b)"
   ]
  },
  {
   "cell_type": "code",
   "execution_count": 1,
   "metadata": {},
   "outputs": [
    {
     "name": "stdout",
     "output_type": "stream",
     "text": [
      "{'78db8397-3643-4cbf-a0b0-65da3e186fbb': ['343328b4-d43c-4ab7-9725-2d66abb66de7', 'efa93db9-e40b-4004-a2fa-908abd18ec19']}\n",
      "343328b4-d43c-4ab7-9725-2d66abb66de7\n",
      "efa93db9-e40b-4004-a2fa-908abd18ec19\n",
      "343328b4-d43c-4ab7-9725-2d66abb66de7\n",
      "efa93db9-e40b-4004-a2fa-908abd18ec19\n",
      "343328b4-d43c-4ab7-9725-2d66abb66de7\n",
      "efa93db9-e40b-4004-a2fa-908abd18ec19\n",
      "{'78db8397-3643-4cbf-a0b0-65da3e186fbb': '4dd1fb99-9af4-465d-8f1b-3f86fdc9b7fb'}\n"
     ]
    }
   ],
   "source": [
    "import net_ut\n",
    "print(net_ut.net_ut.router_subnet_map())\n",
    "print(net_ut.net_ut.destination_source_subnet_map())"
   ]
  },
  {
   "cell_type": "code",
   "execution_count": null,
   "metadata": {},
   "outputs": [],
   "source": []
  },
  {
   "cell_type": "markdown",
   "metadata": {},
   "source": []
  }
 ],
 "metadata": {
  "kernelspec": {
   "display_name": "Python 3.10.7 64-bit (microsoft store)",
   "language": "python",
   "name": "python3"
  },
  "language_info": {
   "codemirror_mode": {
    "name": "ipython",
    "version": 3
   },
   "file_extension": ".py",
   "mimetype": "text/x-python",
   "name": "python",
   "nbconvert_exporter": "python",
   "pygments_lexer": "ipython3",
   "version": "3.10.7"
  },
  "orig_nbformat": 4,
  "vscode": {
   "interpreter": {
    "hash": "fdaaf41630fc54123e49628c502bf66cdb28ab3ff40bec0a0b22c2343c28dae0"
   }
  }
 },
 "nbformat": 4,
 "nbformat_minor": 2
}
