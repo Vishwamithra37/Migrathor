{
 "cells": [
  {
   "cell_type": "code",
   "execution_count": null,
   "metadata": {},
   "outputs": [],
   "source": [
    "a=\"reo\"\n",
    "b=\"gerpreo\""
   ]
  },
  {
   "cell_type": "code",
   "execution_count": 4,
   "metadata": {},
   "outputs": [],
   "source": [
    "a=[\"apples\"]\n",
    "b=[]\n",
    "for i in b:\n",
    "    print('as')\n",
    "    print(b)"
   ]
  },
  {
   "cell_type": "code",
   "execution_count": 3,
   "metadata": {},
   "outputs": [
    {
     "name": "stdout",
     "output_type": "stream",
     "text": [
      "{'939839d1-c4dd-4862-8363-1cd957f7a190': 'ebae41fc-00d7-48e0-af06-a3a3f77eb4f5', 'ebae41fc-00d7-48e0-af06-a3a3f77eb4f5': '939839d1-c4dd-4862-8363-1cd957f7a190', '6605dfac-e8c0-475a-9289-628b4cf715ec': 'ce6e214f-17e4-44cc-9549-d266bc84714a', 'ce6e214f-17e4-44cc-9549-d266bc84714a': '6605dfac-e8c0-475a-9289-628b4cf715ec'}\n"
     ]
    }
   ],
   "source": [
    "import net_ut\n",
    "import json\n",
    "# print(net_ut.net_ut.subnet_net_map())\n",
    "# a=net_ut.net_ut.destination_source_subnet_map2()\n",
    "b=net_ut.net_ut.destination_source_subnet_map2()\n",
    "# a[\"45b0337b-66b0-42f3-8e29-a3186c4643e1\"]\n",
    "print(b)\n",
    "# b[\"9d6a3a12-17fd-4fd4-81a3-8985db66a222\"]\n",
    "# a='343328b4-d43c-4ab7-9725-2d66abb66de7'\n",
    "# with open('./destination/subnet_'+a+'.json') as r:\n",
    "#                               d_subnet_data = json.load(r)\n",
    "#                               print(d_subnet_data)\n",
    "\n"
   ]
  },
  {
   "cell_type": "code",
   "execution_count": 1,
   "metadata": {},
   "outputs": [
    {
     "data": {
      "text/plain": [
       "{'admin': '7bf19cfca2d949fe999e7b7e9e4ea66b', '7bf19cfca2d949fe999e7b7e9e4ea66b': 'admin', 'glance': 'f4d4a120b11a45fc933dd9e9bfde62f0', 'f4d4a120b11a45fc933dd9e9bfde62f0': 'glance', 'placement': '15b79af36aac4332bd9e5c1b813901fe', '15b79af36aac4332bd9e5c1b813901fe': 'placement', 'nova': '3a38f444d41845d1999a9dbf9bcaa04f', '3a38f444d41845d1999a9dbf9bcaa04f': 'nova', 'neutron': '2669ab6febaf4c71b09a15349b01fde0', '2669ab6febaf4c71b09a15349b01fde0': 'neutron', 'kuryr': 'a321b8c949e54477ae9d47c7b64f0f56', 'a321b8c949e54477ae9d47c7b64f0f56': 'kuryr', 'magnum': '2e04ce96615544f8801e5e2a1b6cab8a', '2e04ce96615544f8801e5e2a1b6cab8a': 'magnum', 'magnum_trustee_domain_admin': '4b9a2047b9334517a5911cfb571d6cfb', '95255ac3340b498cb25d992a209fb714': 'magnum_trustee_domain_admin', 'zun': '160f8460be404d5ca438ac72fc568b35', '160f8460be404d5ca438ac72fc568b35': 'zun', 'admin2': '30b97b9cf0634a73b329bb9d686fd66b', '30b97b9cf0634a73b329bb9d686fd66b': 'admin2', 'a1': 'bb1d72518e8b4b89ba6b818f83549e85', 'bb1d72518e8b4b89ba6b818f83549e85': 'a1', 'a2': 'eebf6fdc8a5b4af6b2ae07a88faf53b2', 'eebf6fdc8a5b4af6b2ae07a88faf53b2': 'a2', 'a3': '5dbf2a867eb94b49820ad74e653fb0c9', '5dbf2a867eb94b49820ad74e653fb0c9': 'a3', '4b9a2047b9334517a5911cfb571d6cfb': 'magnum_trustee_domain_admin'}"
      ]
     },
     "execution_count": 1,
     "metadata": {},
     "output_type": "execute_result"
    }
   ],
   "source": [
    "import key_ut\n",
    "\n",
    "key_ut.keystone_ut.user_id_map()"
   ]
  },
  {
   "cell_type": "markdown",
   "metadata": {},
   "source": []
  }
 ],
 "metadata": {
  "kernelspec": {
   "display_name": "Python 3.10.7 64-bit (microsoft store)",
   "language": "python",
   "name": "python3"
  },
  "language_info": {
   "codemirror_mode": {
    "name": "ipython",
    "version": 3
   },
   "file_extension": ".py",
   "mimetype": "text/x-python",
   "name": "python",
   "nbconvert_exporter": "python",
   "pygments_lexer": "ipython3",
   "version": "3.10.7"
  },
  "orig_nbformat": 4,
  "vscode": {
   "interpreter": {
    "hash": "fdaaf41630fc54123e49628c502bf66cdb28ab3ff40bec0a0b22c2343c28dae0"
   }
  }
 },
 "nbformat": 4,
 "nbformat_minor": 2
}
